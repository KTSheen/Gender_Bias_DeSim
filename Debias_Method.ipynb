{
 "cells": [
  {
   "cell_type": "code",
   "execution_count": 1,
   "id": "736af493-e9c1-44ff-9a33-b7c83297b4a5",
   "metadata": {},
   "outputs": [],
   "source": [
    "import numpy as np\n",
    "import pandas as pd\n",
    "import scipy, requests, codecs, os, re, nltk, itertools, csv\n",
    "from sklearn.metrics.pairwise import cosine_similarity\n",
    "import tensorflow as tf\n",
    "from scipy.stats import spearmanr\n",
    "import functools as ft\n",
    "from sklearn.decomposition import PCA\n",
    "from sklearn.preprocessing import normalize\n",
    "import gdown\n",
    "import json"
   ]
  },
  {
   "cell_type": "code",
   "execution_count": 2,
   "id": "c15b0da5-9218-474c-8214-0c9da2ee5fed",
   "metadata": {},
   "outputs": [
    {
     "name": "stdout",
     "output_type": "stream",
     "text": [
      "322636\n"
     ]
    }
   ],
   "source": [
    "VEC_LEN = 300\n",
    "debias_file = open(\"../Hard_Debias/embeddings/GoogleNews-vectors-negative300-hard-debiased.bin\", 'r')\n",
    "debias_word = {}\n",
    "for line in debias_file:\n",
    "    line = line.strip()\n",
    "    _word = line.split(' ')\n",
    "    vector = np.array([float(num) for num in _word[1:]])\n",
    "    if len(vector) != VEC_LEN: \n",
    "        raise Exception(\"Word dimension is wrong\")\n",
    "    debias_word[_word[0]] = vector\n",
    "debias_file.close()\n",
    "print(len(debias_word))\n",
    "hard_debias = debias_word.copy()"
   ]
  },
  {
   "cell_type": "code",
   "execution_count": 3,
   "id": "0925bf97-711e-4556-be8e-e3b8776f5369",
   "metadata": {},
   "outputs": [
    {
     "name": "stdout",
     "output_type": "stream",
     "text": [
      "322636\n"
     ]
    }
   ],
   "source": [
    "VEC_LEN = 300\n",
    "glove_file = open(\"../data/glove_wiki_vectors.txt\", 'r')\n",
    "glove_word = {}\n",
    "for line in glove_file:\n",
    "    line = line.strip()\n",
    "    _word = line.split(' ')\n",
    "    vector = np.array([float(num) for num in _word[1:]])\n",
    "    if len(vector) != VEC_LEN: \n",
    "        raise Exception(\"Word dimension is wrong\")\n",
    "    glove_word[_word[0]] = vector\n",
    "glove_file.close()\n",
    "print(len(glove_word))"
   ]
  },
  {
   "cell_type": "code",
   "execution_count": 4,
   "id": "7ac9d3ec-3677-4a4b-8607-7d9f31e8665c",
   "metadata": {},
   "outputs": [
    {
     "name": "stdout",
     "output_type": "stream",
     "text": [
      "446\n"
     ]
    }
   ],
   "source": [
    "gender_specific = []\n",
    "with open('../data/HSR/male_word_file.txt') as f:\n",
    "    for l in f:\n",
    "        gender_specific.append(l.strip())\n",
    "with open('../data/HSR/female_word_file.txt') as f:\n",
    "    for l in f:\n",
    "        gender_specific.append(l.strip())\n",
    "\n",
    "exclude_words = gender_specific\n",
    "print(len(exclude_words))"
   ]
  },
  {
   "cell_type": "code",
   "execution_count": 5,
   "id": "878362a9-5b4f-41e5-be25-d1025f3dec8a",
   "metadata": {},
   "outputs": [
    {
     "name": "stderr",
     "output_type": "stream",
     "text": [
      "100%|████████████████████████████████████████████████████████████████████████████| 50000/50000 [00:00<00:00, 367610.55it/s]"
     ]
    },
    {
     "name": "stdout",
     "output_type": "stream",
     "text": [
      "size of vocabulary: 47698\n"
     ]
    },
    {
     "name": "stderr",
     "output_type": "stream",
     "text": [
      "\n"
     ]
    }
   ],
   "source": [
    "import string \n",
    "from tqdm import tqdm\n",
    "\n",
    "def has_punct(w):\n",
    "    \n",
    "    if any([c in string.punctuation for c in w]):\n",
    "        return True\n",
    "    return False\n",
    "\n",
    "def has_digit(w):\n",
    "    \n",
    "    if any([c in '0123456789' for c in w]):\n",
    "        return True\n",
    "    return False\n",
    "\n",
    "def limit_vocab(word_embedding, exclude = None, vec_len = 300):\n",
    "    vocab_limited = []\n",
    "    for w in tqdm(list(word_embedding.keys())[:50000]): \n",
    "        if w.lower() != w:\n",
    "            continue\n",
    "        if len(w) >= 20:\n",
    "            continue\n",
    "        if has_digit(w):\n",
    "            continue\n",
    "        if '_' in w:\n",
    "            p = [has_punct(subw) for subw in w.split('_')]\n",
    "            if not any(p):\n",
    "                vocab_limited.append(w)\n",
    "            continue\n",
    "        if has_punct(w):\n",
    "            continue\n",
    "        vocab_limited.append(w)\n",
    "    \n",
    "    if exclude:\n",
    "        # vocab_limited = list(set(vocab_limited) - set(exclude) - {'melville', 'null', 'nan', 'castellón', 'sgc'})\n",
    "        vocab_limited = list(set(vocab_limited) - set(exclude))\n",
    "    \n",
    "    print(\"size of vocabulary:\", len(vocab_limited))\n",
    "    \n",
    "    return vocab_limited\n",
    "\n",
    "word_limited = limit_vocab(glove_word, exclude_words)"
   ]
  },
  {
   "cell_type": "code",
   "execution_count": 6,
   "id": "b660c167-d170-4f45-987c-33c6050d4ef7",
   "metadata": {},
   "outputs": [
    {
     "name": "stdout",
     "output_type": "stream",
     "text": [
      "definitional [['woman', 'man'], ['girl', 'boy'], ['she', 'he'], ['mother', 'father'], ['daughter', 'son'], ['gal', 'guy'], ['female', 'male'], ['her', 'his'], ['herself', 'himself'], ['Mary', 'John']]\n",
      "gender specific 218 ['actress', 'actresses', 'aunt', 'aunts', 'bachelor', 'ballerina', 'barbershop', 'baritone', 'beard', 'beards']\n"
     ]
    }
   ],
   "source": [
    "with open('../definitional_pairs.json', \"r\") as f:\n",
    "    defs = json.load(f)\n",
    "print(\"definitional\", defs)\n",
    "\n",
    "with open('../equalize_pairs.json', \"r\") as f:\n",
    "    equalize_pairs = json.load(f)\n",
    "\n",
    "with open('../gender_specific_seed.json', \"r\") as f:\n",
    "    gender_specific_words = json.load(f)\n",
    "print(\"gender specific\", len(gender_specific_words), gender_specific_words[:10])"
   ]
  },
  {
   "cell_type": "code",
   "execution_count": 7,
   "id": "1929a1e6-ea68-4e2a-9f15-b0efbbc6abe2",
   "metadata": {},
   "outputs": [],
   "source": [
    "def doPCA(pairs, embedding, num_components = 10):\n",
    "    matrix = []\n",
    "    for a, b in pairs:\n",
    "        a = a.lower()\n",
    "        b = b.lower()\n",
    "        try:\n",
    "            center = (embedding[a] + embedding[b])/2\n",
    "            matrix.append(embedding[a] - center)\n",
    "            matrix.append(embedding[b] - center)\n",
    "        except:\n",
    "            print(\"error\", a, b)\n",
    "    matrix = np.array(matrix)\n",
    "    pca = PCA(n_components = num_components)\n",
    "    pca.fit(matrix)\n",
    "    # bar(range(num_components), pca.explained_variance_ratio_)\n",
    "    return pca"
   ]
  },
  {
   "cell_type": "code",
   "execution_count": 8,
   "id": "a789dadd-310f-4ae3-b6c5-74621d7d2d37",
   "metadata": {},
   "outputs": [],
   "source": [
    "import json \n",
    "\n",
    "def extract_professions():\n",
    "    professions = []\n",
    "    with codecs.open('../data/HSR/professions.json', 'r', 'utf-8') as f:\n",
    "        professions_data = json.load(f)\n",
    "    for item in professions_data:\n",
    "        professions.append(item[0].strip())\n",
    "    return professions\n",
    "\n",
    "\n",
    "professions = extract_professions()"
   ]
  },
  {
   "cell_type": "code",
   "execution_count": 9,
   "id": "8b5fdd5e-695d-4c8c-b5df-f6c8807dd863",
   "metadata": {},
   "outputs": [
    {
     "name": "stdout",
     "output_type": "stream",
     "text": [
      "446\n"
     ]
    }
   ],
   "source": [
    "gender_specific = []\n",
    "with open('../data/HSR/male_word_file.txt') as f:\n",
    "    for l in f:\n",
    "        gender_specific.append(l.strip())\n",
    "with open('../data/HSR/female_word_file.txt') as f:\n",
    "    for l in f:\n",
    "        gender_specific.append(l.strip())\n",
    "\n",
    "exclude_words = gender_specific\n",
    "print(len(exclude_words))"
   ]
  },
  {
   "cell_type": "code",
   "execution_count": 10,
   "id": "51538c8c-12d9-4308-b60e-9cf2e9e4fa82",
   "metadata": {},
   "outputs": [
    {
     "name": "stdout",
     "output_type": "stream",
     "text": [
      "291\n"
     ]
    }
   ],
   "source": [
    "vector_list = []\n",
    "for w in professions:\n",
    "    if w in glove_word.keys():\n",
    "        vector_list.append(glove_word[w])\n",
    "        \n",
    "print(len(vector_list))\n",
    "vector_list = np.array(vector_list)"
   ]
  },
  {
   "cell_type": "code",
   "execution_count": 11,
   "id": "6945fa4e-129d-4dc3-94dc-936a257689ad",
   "metadata": {},
   "outputs": [
    {
     "data": {
      "text/plain": [
       "(2, 300)"
      ]
     },
     "execution_count": 11,
     "metadata": {},
     "output_type": "execute_result"
    }
   ],
   "source": [
    "pca_pro = PCA()\n",
    "pca_pro.fit(vector_list)\n",
    "comp_pro = pca_pro.components_[:2]\n",
    "comp_pro.shape"
   ]
  },
  {
   "cell_type": "code",
   "execution_count": 12,
   "id": "32a2af65-67b7-494c-8a5b-fd5c45040442",
   "metadata": {},
   "outputs": [],
   "source": [
    "import operator\n",
    "pro = {}\n",
    "for w in word_limited:\n",
    "    pro[w] = np.linalg.norm(comp_pro.dot(glove_word[w]))\n",
    "sorted_pro = sorted(pro.items(), key=operator.itemgetter(1))\n",
    "word_list_pro = [w[0] for w in sorted_pro[-15000:]]"
   ]
  },
  {
   "cell_type": "code",
   "execution_count": 13,
   "id": "9eda2a3f-64c1-4f93-82b0-0d8d882f0b84",
   "metadata": {},
   "outputs": [],
   "source": [
    "def drop(u, v):\n",
    "    return u - v * u.dot(v) / v.dot(v)\n",
    "\n",
    "pca = doPCA(defs, glove_word)\n",
    "gender_direction = pca.components_[0]"
   ]
  },
  {
   "cell_type": "code",
   "execution_count": 14,
   "id": "4cd5b53a-885d-4b30-8db9-04fc1054ebce",
   "metadata": {},
   "outputs": [
    {
     "name": "stdout",
     "output_type": "stream",
     "text": [
      "[1. 1.]\n",
      "2\n"
     ]
    }
   ],
   "source": [
    "import scipy\n",
    "def null(A, atol=1e-15, rtol=0):\n",
    "    A = np.atleast_2d(A)\n",
    "    u, s, vh = scipy.linalg.svd(A)\n",
    "    print(s)\n",
    "    tol = max(atol, rtol * s[0])\n",
    "    nnz = (s >= tol).sum()\n",
    "    print(nnz)\n",
    "    ns = vh[nnz:].conj().T\n",
    "    return ns\n",
    "n_space = null(pca.components_[:2])"
   ]
  },
  {
   "cell_type": "code",
   "execution_count": 15,
   "id": "26314400-283f-4bea-bec5-45679a08385f",
   "metadata": {},
   "outputs": [],
   "source": [
    "n = n_space.shape[1]\n",
    "\n",
    "np.random.seed(10)\n",
    "\n",
    "for w in word_list_pro:\n",
    "    \n",
    "    rand = np.random.choice(range(n),2)\n",
    "    null_vec = n_space[:, rand[0]] + n_space[:, rand[1]]\n",
    "    positive = False\n",
    "    while positive == False:\n",
    "        if null_vec.dot(hard_debias[w]) > 0:\n",
    "            positive = True\n",
    "            v = hard_debias[w] + 0.3 * comp_pro[0] + 0.3 * (null_vec)\n",
    "        else:\n",
    "            rand = np.random.choice(range(n),2)\n",
    "            null_vec = n_space[:, rand[0]] + n_space[:, rand[1]]\n",
    "    v = v / np.linalg.norm(v)\n",
    "    debias_word[w] = v"
   ]
  },
  {
   "cell_type": "markdown",
   "id": "7de14ab6-e897-4b38-8e88-0294db8763be",
   "metadata": {},
   "source": [
    "## Word Projection task"
   ]
  },
  {
   "cell_type": "code",
   "execution_count": 16,
   "id": "d045309a-fb46-4c4b-b153-56e668637fba",
   "metadata": {},
   "outputs": [
    {
     "name": "stdout",
     "output_type": "stream",
     "text": [
      "Gender projection : 0.414676555316804\n",
      "Gender projection : 0.008884060580414714\n",
      "Gender projection : 0.00983099406433445\n"
     ]
    }
   ],
   "source": [
    "def word_projection(defs, glove_word, comp):\n",
    "\n",
    "    gender_word = []\n",
    "    for w in word_list_pro:\n",
    "        if w in glove_word.keys():\n",
    "            gender_word.append(w)\n",
    "    n = len(gender_word)\n",
    "    total = 0\n",
    "    for w in gender_word:\n",
    "        d = comp.dot(glove_word[w])\n",
    "        total += np.linalg.norm(d)\n",
    "    pro1 = total / n\n",
    "    print(\"Gender projection :\", pro1)\n",
    "    \n",
    "word_projection(defs, glove_word, gender_direction)\n",
    "word_projection(defs, hard_debias, gender_direction)\n",
    "word_projection(defs, debias_word, gender_direction)"
   ]
  },
  {
   "cell_type": "markdown",
   "id": "20b62b51-106c-4a2f-b6cf-6a3f05a1a857",
   "metadata": {},
   "source": [
    "## Similarity Correlation task"
   ]
  },
  {
   "cell_type": "code",
   "execution_count": 17,
   "id": "a1165177-fdf0-4629-9819-cb926d17c458",
   "metadata": {},
   "outputs": [],
   "source": [
    "import scipy.stats\n",
    "\n",
    "def pearson(a,b):\n",
    "   \n",
    "    return scipy.stats.pearsonr(a,b)\n",
    "\n",
    "def compute_corr(tuples, i1, i2):\n",
    "    \n",
    "    a = []\n",
    "    b = []\n",
    "    for t in tuples:\n",
    "        a.append(t[i1])\n",
    "        b.append(t[i2])\n",
    "    assert(len(a)==len(b))    \n",
    "    return pearson(a,b)\n",
    "\n",
    "def word_vec(word_embedding, word_list):\n",
    "    word_limited_vec = []\n",
    "    for w in word_list:\n",
    "        word_limited_vec.append(word_embedding[w])\n",
    "    word_limited_vec = np.array(word_limited_vec)\n",
    "    return word_limited_vec\n",
    "\n",
    "glove_word_vec = word_vec(glove_word, word_limited)\n",
    "hard_debias_vec = word_vec(hard_debias, word_limited)\n",
    "debias_word_vec = word_vec(debias_word, word_limited)"
   ]
  },
  {
   "cell_type": "code",
   "execution_count": 18,
   "id": "0a317bad-4949-460c-a369-635085b2850e",
   "metadata": {},
   "outputs": [],
   "source": [
    "def get_tuples_prof(word_embedding, words, word_list, word_limited_vec, gender_bias_dict, b=0.2):\n",
    "\n",
    "    tuples = []\n",
    "    \n",
    "    for w in words:\n",
    "        if w not in gender_bias_dict:\n",
    "            continue\n",
    "            \n",
    "        # top = topK(w, space, k=105)[:100]\n",
    "        vec = word_embedding[w]\n",
    "        sim = word_limited_vec.dot(vec)\n",
    "        sort_sim = (sim.argsort())[::-1]\n",
    "        best = sort_sim[:(105+1)]\n",
    "        \n",
    "        # if w in words:\n",
    "        #     print(w)\n",
    "        # idx = word_list.index(w)\n",
    "        top = []\n",
    "        for i in best:\n",
    "            if word_list[i] != w:\n",
    "                top.append(word_list[i])\n",
    "            # else:\n",
    "                # print(\"___________________\")\n",
    "                # print(w)\n",
    "                # raise Exception(\"Same Word Error\")\n",
    "            \n",
    "        m = 0\n",
    "        f = 0  \n",
    "        for t in top[:100]:          \n",
    "            if gender_bias_dict[t] > b:\n",
    "                m+=1\n",
    "            if gender_bias_dict[t] < -b:\n",
    "                f+=1\n",
    "                \n",
    "        tuples.append((w, gender_bias_dict[w], 0, m, f))\n",
    "        \n",
    "        \n",
    "    return tuples"
   ]
  },
  {
   "cell_type": "code",
   "execution_count": 19,
   "id": "9f7a42dc-67ac-4f3d-9c00-31fde7194dac",
   "metadata": {},
   "outputs": [],
   "source": [
    "def compute_bias_by_projection(word_embedding, word_list, direction):\n",
    "    d = {}\n",
    "    # for w,m,f in zip(vocab[space_to_tag], males, females):\n",
    "    #     d[w] = m-f\n",
    "    for w in word_list:\n",
    "        \n",
    "        try:\n",
    "            d[w] = direction.dot(word_embedding[w])\n",
    "        except Exception:\n",
    "            print(w)\n",
    "            continue\n",
    "    return d\n",
    "\n",
    "word_project = compute_bias_by_projection(glove_word, word_limited, gender_direction)\n",
    "hard_project = compute_bias_by_projection(hard_debias, word_limited, gender_direction)\n",
    "debias_project = compute_bias_by_projection(debias_word, word_limited, gender_direction)"
   ]
  },
  {
   "cell_type": "code",
   "execution_count": 20,
   "id": "06d50dc8-43c3-4ba2-b119-37b2fd0e61c8",
   "metadata": {},
   "outputs": [
    {
     "name": "stdout",
     "output_type": "stream",
     "text": [
      "Original GloVe:  (0.7820550863231456, 1.8216573265744813e-53)\n",
      "Hard Debias:  (0.6503461502872573, 8.288788518127686e-32)\n",
      "DeSim GloVe:  (0.6145846016671008, 1.1377152285927455e-27)\n"
     ]
    }
   ],
   "source": [
    "prof_glove = get_tuples_prof(glove_word, professions, word_limited, glove_word_vec, word_project)\n",
    "print(\"Original GloVe: \", compute_corr(prof_glove, 1, 3))\n",
    "prof_glove = get_tuples_prof(hard_debias, professions, word_limited, hard_debias_vec, word_project)\n",
    "print(\"Hard Debias: \", compute_corr(prof_glove, 1, 3))\n",
    "prof_glove = get_tuples_prof(debias_word, professions, word_limited, debias_word_vec, word_project)\n",
    "print(\"DeSim GloVe: \", compute_corr(prof_glove, 1, 3))"
   ]
  },
  {
   "cell_type": "code",
   "execution_count": 21,
   "id": "56e32e8e-7ed2-49e1-9a55-1a49cc459af8",
   "metadata": {},
   "outputs": [],
   "source": [
    "d = {}\n",
    "for w in word_list_pro:\n",
    "    d[w] = glove_word[w].dot(gender_direction)\n",
    "size = 500\n",
    "sorted_g = sorted(d.items(), key=operator.itemgetter(1))\n",
    "female_pro = [item[0] for item in sorted_g[:size]]\n",
    "male_pro = [item[0] for item in sorted_g[-size:]]"
   ]
  },
  {
   "cell_type": "code",
   "execution_count": 22,
   "id": "626dae4d-d060-4530-b8b2-7452e08d0ab9",
   "metadata": {},
   "outputs": [],
   "source": [
    "# Auxiliary finctions\n",
    "import matplotlib.pyplot as plt\n",
    "import matplotlib as mpl\n",
    "# mpl.use('TkAgg')\n",
    "from cycler import cycler\n",
    "import operator\n",
    "import random\n",
    "\n",
    "\n",
    "from sklearn.cluster import KMeans\n",
    "#from sklearn.datasets import make_blobs\n",
    "\n",
    "from sklearn.manifold import TSNE\n",
    "\n",
    "def visualize(vectors, words, labels, ax, title, random_state, num_clusters = 2):\n",
    "    \n",
    "    # perform TSNE\n",
    "    \n",
    "    X_embedded = TSNE(n_components=2, random_state=random_state).fit_transform(vectors)\n",
    "    if num_clusters == 2:\n",
    "        for x,l in zip(X_embedded, labels):\n",
    "            if l:\n",
    "                ax.scatter(x[0], x[1], marker = '.', c = 'c')\n",
    "            else:\n",
    "                ax.scatter(x[0], x[1], marker = 'x', c = 'darkviolet')\n",
    "    else:\n",
    "        ax.scatter(X_embedded[:,0], X_embedded[:,1], c = labels)                \n",
    "    \n",
    "    ax.set_xlabel(\"TSNE-X\")\n",
    "    ax.set_ylabel(\"TSNE-Y\")\n",
    "    ax.set_xbound(lower=-45, upper=45)\n",
    "    ax.set_ybound(lower=-45, upper=45)\n",
    "    ax.text(.01, .9, title ,transform=ax.transAxes, fontsize=18)\n",
    "\n",
    "    \n",
    "def extract_vectors(words, before, after):\n",
    "    \n",
    "    size = len(words)/2\n",
    "    \n",
    "    X_bef = [before[x] / np.linalg.norm(before[x]) for x in words]\n",
    "    X_aft = [after[x] / np.linalg.norm(after[x]) for x in words]\n",
    "\n",
    "    return X_bef, X_aft\n",
    "\n",
    "    \n",
    "\n",
    "def cluster_and_visualize(words, X_bef, X_aft, random_state, y_true, name, num=2):\n",
    "    \n",
    "    final = ''\n",
    "    fig, axs = plt.subplots(1, 2, figsize=(15, 3))\n",
    "    \n",
    "    y_pred_bef = KMeans(n_clusters=num, random_state=random_state).fit_predict(X_bef)\n",
    "    visualize(X_bef, words, y_pred_bef, axs[0], 'Original', random_state)\n",
    "    # correct = [1 if item1 == item2 else 0 for (item1,item2) in zip(y_true, y_pred_bef) ]\n",
    "    # final += \"original glove dim = 300: {} {} {} \".format(sum(correct), len(correct), sum(correct)/float(len(correct)))\n",
    "    \n",
    "    y_pred_aft = KMeans(n_clusters=num, random_state=random_state).fit_predict(X_aft)\n",
    "    for i in range(0, len(y_pred_aft)):\n",
    "        if y_pred_aft[i] == 0:\n",
    "            y_pred_aft[i] = 1\n",
    "        else:\n",
    "            y_pred_aft[i] = 0\n",
    "        \n",
    "    visualize(X_aft, words, y_pred_aft, axs[1], name, random_state)\n",
    "#     correct = [1 if item1 == item2 else 0 for (item1,item2) in zip(y_true, y_pred_aft) ]\n",
    "#     accuracy = sum(correct)/float(len(correct))\n",
    "#     # print(accuracy)\n",
    "#     if accuracy < 0.5:\n",
    "#         accuracy = 1 - accuracy\n",
    "#     final += \"compare with {} \".format(accuracy)\n",
    "    fig.show()\n",
    "    fig.savefig('HSR_clustering', bbox_inches='tight')\n",
    "    \n",
    "\n",
    "\n",
    "# Cluster most biased words before and after debiasing\n",
    "def test(before, after, name):\n",
    "    \n",
    "    X_bef, X_aft = extract_vectors(male_pro + female_pro, before, after)\n",
    "    y_true = [0]*size + [1]*size\n",
    "    return cluster_and_visualize(male_pro + female_pro, X_bef, X_aft, random_state, y_true, name)\n",
    "    \n",
    "random.seed(1)\n",
    "random_state = 1"
   ]
  },
  {
   "cell_type": "code",
   "execution_count": 23,
   "id": "5b5720a7-2901-4cf4-996a-e0f9ba4879ef",
   "metadata": {},
   "outputs": [
    {
     "data": {
      "image/png": "[encoded data removed]",
      "text/plain": [
       "<Figure size 1080x216 with 2 Axes>"
      ]
     },
     "metadata": {
      "needs_background": "light"
     },
     "output_type": "display_data"
    }
   ],
   "source": [
    "test(glove_word, hard_debias, \"Hard Debias\")"
   ]
  },
  {
   "cell_type": "code",
   "execution_count": 24,
   "id": "aaceb82d-8f4c-4f3b-b9a8-907deb54616f",
   "metadata": {},
   "outputs": [
    {
     "data": {
      "image/png": "[encoded data removed]",
      "text/plain": [
       "<Figure size 1080x216 with 2 Axes>"
      ]
     },
     "metadata": {
      "needs_background": "light"
     },
     "output_type": "display_data"
    }
   ],
   "source": [
    "test(glove_word, debias_word, \"DeSim\")"
   ]
  },
  {
   "cell_type": "markdown",
   "id": "c1938bfd-8c4e-495a-b98b-79ad1e342ffa",
   "metadata": {},
   "source": [
    "## Association classification task"
   ]
  },
  {
   "cell_type": "code",
   "execution_count": 25,
   "id": "dba1c0dc-af19-4443-9769-2a06876a9c05",
   "metadata": {},
   "outputs": [
    {
     "name": "stdout",
     "output_type": "stream",
     "text": [
      "446\n"
     ]
    }
   ],
   "source": [
    "male = []\n",
    "female = []\n",
    "with open('../data/HSR/male_word_file.txt') as f:\n",
    "    for l in f:\n",
    "        male.append(l.strip())\n",
    "with open('../data/HSR/female_word_file.txt') as f:\n",
    "    for l in f:\n",
    "        female.append(l.strip())\n",
    "\n",
    "exclude_words = male + female\n",
    "print(len(exclude_words))"
   ]
  },
  {
   "cell_type": "code",
   "execution_count": 26,
   "id": "05b9c59d-ba2c-47c0-91a5-e4eab68110b4",
   "metadata": {},
   "outputs": [],
   "source": [
    "attribute_sets=[[\"footballer\", 'engineer', 'physician', 'doctor', 'laborer', 'proprietor', 'operator', 'mechanic', 'surveyor', 'physicist', 'machinist', 'architect', 'photographer', 'optometrist', 'millwright', 'sales', 'manager'],\n",
    "                [\"hairdresser\",\"receptionist\", 'salesperson', 'setter', 'welder', \"cleaner\" ,'teacher', 'dancer', 'nutritionist', 'dietitian', 'author', 'nurse', 'attendant', 'waitstaff', 'librarian', 'housekeeper', 'model']]"
   ]
  },
  {
   "cell_type": "code",
   "execution_count": 27,
   "id": "e5bbcb08-2991-4c66-81a6-ac5ec2a0e859",
   "metadata": {},
   "outputs": [],
   "source": [
    "length = min(len(attribute_sets[0]), len(attribute_sets[1]))\n",
    "attribute_sets = attribute_sets[0][:length] + attribute_sets[1][:length]\n",
    "target_sets = [male, female]"
   ]
  },
  {
   "cell_type": "code",
   "execution_count": 28,
   "id": "e2e921a8-df8d-4509-b5e8-3191778de9c8",
   "metadata": {},
   "outputs": [],
   "source": [
    "from sklearn.model_selection import train_test_split\n",
    "from sklearn.linear_model import LogisticRegression\n",
    "from scipy.stats import entropy\n",
    "\n",
    "def rnsb(word_embeddings):\n",
    "\n",
    "    attribute_embeddings = [word_embeddings[w] for w in attribute_sets]\n",
    "\n",
    "    target_embeddings = [[], []]\n",
    "    for w in male:\n",
    "        if w in word_embeddings.keys():\n",
    "            target_embeddings[0].append(word_embeddings[w])\n",
    "    for w in female:\n",
    "        if w in word_embeddings.keys():\n",
    "            target_embeddings[1].append(word_embeddings[w])\n",
    "\n",
    "    calculated_divergences = []\n",
    "    calculated_negative_sentiment_probabilities = []\n",
    "    scores = []\n",
    "\n",
    "    # train the logit with the train data.\n",
    "    X_train = np.array(target_embeddings[0] + target_embeddings[1])\n",
    "    Y_train = np.array([1]*len(target_embeddings[0]) + [-1]*len(target_embeddings[1]))\n",
    "    split = train_test_split(\n",
    "            X_train,\n",
    "            Y_train,\n",
    "            shuffle=True,\n",
    "            test_size=0.1,\n",
    "            random_state=0,\n",
    "            stratify=Y_train,\n",
    "            )\n",
    "    X_embeddings_train, X_embeddings_test, y_train, y_test = split\n",
    "    estimator = LogisticRegression(random_state=0)\n",
    "    estimator.fit(X_embeddings_train, y_train)\n",
    "    y_pred = estimator.predict(X_embeddings_test)\n",
    "    score = estimator.score(X_embeddings_test, y_test)\n",
    "    # print(y_test)\n",
    "    # print(y_pred, score)\n",
    "    probabilities = estimator.predict_proba(attribute_embeddings)\n",
    "    negative_probabilities = probabilities[:, 1].flatten()\n",
    "    # for n, w in zip(negative_probabilities, target_sets):\n",
    "    #     print(n,w)\n",
    "\n",
    "    normalized_negative_probabilities = np.array(negative_probabilities / np.sum(negative_probabilities))\n",
    "    # print(normalized_negative_probabilities)\n",
    "    uniform_dist = (np.ones(normalized_negative_probabilities.shape[0])* 1/ normalized_negative_probabilities.shape[0])\n",
    "    kl_divergence = entropy(normalized_negative_probabilities, uniform_dist)\n",
    "    print(kl_divergence)"
   ]
  },
  {
   "cell_type": "code",
   "execution_count": 29,
   "id": "3a093883-6f89-49fb-82e5-2c76bbc79ae0",
   "metadata": {},
   "outputs": [
    {
     "name": "stdout",
     "output_type": "stream",
     "text": [
      "Original GloVe:\n",
      "0.22399039104982316\n",
      "Hard Debias:\n",
      "0.012048994282516507\n",
      "DeSim:\n",
      "0.01143801118650668\n"
     ]
    }
   ],
   "source": [
    "print(\"Original GloVe:\")\n",
    "rnsb(glove_word)\n",
    "print(\"Hard Debias:\")\n",
    "rnsb(hard_debias)\n",
    "print(\"DeSim:\")\n",
    "rnsb(debias_word)"
   ]
  },
  {
   "cell_type": "markdown",
   "id": "35ff5f8b-d6b5-4b87-b05a-eafab7f744db",
   "metadata": {},
   "source": [
    "## WEAT task"
   ]
  },
  {
   "cell_type": "code",
   "execution_count": 30,
   "id": "1a2dd9c8-8083-43e5-ac1d-9bbfc09b0f10",
   "metadata": {},
   "outputs": [],
   "source": [
    "def similarity(w1, w2):\n",
    "    \n",
    "    return w1.dot(w2)\n",
    "\n",
    "def s_word(w, A, B, word_embedding, all_s_words):\n",
    "    \n",
    "    if w in all_s_words:\n",
    "        return all_s_words[w]\n",
    "    \n",
    "    mean_a = []\n",
    "    mean_b = []\n",
    "    \n",
    "    for a in A:\n",
    "        mean_a.append(similarity(word_embedding[w], word_embedding[a]))\n",
    "    for b in B:\n",
    "        mean_b.append(similarity(word_embedding[w], word_embedding[b]))\n",
    "        \n",
    "    mean_a = sum(mean_a)/float(len(mean_a))\n",
    "    mean_b = sum(mean_b)/float(len(mean_b))\n",
    "    \n",
    "    all_s_words[w] = mean_a - mean_b\n",
    "\n",
    "    return all_s_words[w]\n",
    "\n",
    "\n",
    "def s_group(X, Y, A, B, word_embedding, all_s_words):\n",
    "    \n",
    "    total = 0\n",
    "    for x in X:\n",
    "        total += s_word(x, A, B, word_embedding, all_s_words)\n",
    "    for y in Y:\n",
    "        total -= s_word(y, A, B, word_embedding, all_s_words)\n",
    "        \n",
    "    return total\n",
    "\n",
    "def effect_size(X, Y, A, B, word_embedding, all_s_words):\n",
    "    total_x = []\n",
    "    total_y = []\n",
    "    \n",
    "    for x in X:\n",
    "        total_x.append(s_word(x, A, B, word_embedding, all_s_words))\n",
    "    for y in Y:\n",
    "        total_y.append(s_word(y, A, B, word_embedding, all_s_words))\n",
    "        \n",
    "    \n",
    "    mean = sum(total_x)/float(len(total_x)) - sum(total_y)/float(len(total_y))\n",
    "    std_dev = np.std(total_x + total_y)\n",
    "    \n",
    "    if std_dev == 0:\n",
    "        print(\"Error! \")\n",
    "    \n",
    "    return mean / std_dev\n",
    "\n",
    "\n",
    "def p_value_exhust(X, Y, A, B, word_embedding):\n",
    "    \n",
    "#     if len(X) > 10:\n",
    "#         print('might take too long, use sampled version: p_value')\n",
    "#         return\n",
    "    \n",
    "\n",
    "    _X = []\n",
    "    _Y = []\n",
    "    _A = []\n",
    "    _B = []\n",
    "    for x in X:\n",
    "        if x in word_embedding.keys():\n",
    "            _X.append(x)\n",
    "            \n",
    "    for y in Y:\n",
    "        if y in word_embedding.keys():\n",
    "            _Y.append(y)\n",
    "            \n",
    "    for a in A:\n",
    "        if a in word_embedding.keys():\n",
    "            _A.append(a)\n",
    "            \n",
    "    for b in B:\n",
    "        if b in word_embedding.keys():\n",
    "            _B.append(b)\n",
    "            \n",
    "    length = min(10, len(_X), len(_Y))\n",
    "    X = _X[:length]\n",
    "    Y = _Y[:length]\n",
    "    \n",
    "    A = _A\n",
    "    B = _B\n",
    "    \n",
    "    all_s_words = {}\n",
    "    s_orig = s_group(X, Y, A, B, word_embedding, all_s_words) \n",
    "    \n",
    "    union = set(X+Y)\n",
    "    subset_size = int(len(union)/2)\n",
    "    \n",
    "    larger = 0\n",
    "    total = 0\n",
    "\n",
    "    for subset in set(itertools.combinations(union, subset_size)):\n",
    "        total += 1\n",
    "        Xi = list(set(subset))\n",
    "        Yi = list(union - set(subset))\n",
    "        if s_group(Xi, Yi, A, B, word_embedding, all_s_words) > s_orig:\n",
    "            larger += 1\n",
    "    print('num of samples {} '.format(total))\n",
    "    \n",
    "    d = effect_size(X, Y, A, B, word_embedding, all_s_words)\n",
    "\n",
    "    \n",
    "    return larger/float(total), d"
   ]
  },
  {
   "cell_type": "code",
   "execution_count": 31,
   "id": "744a11a1-f2a8-4cd1-8595-92acb02de171",
   "metadata": {},
   "outputs": [
    {
     "name": "stdout",
     "output_type": "stream",
     "text": [
      "num of samples 12870 \n",
      "(0.0, 1.9084065924005231)\n",
      "num of samples 12870 \n",
      "(7.77000777000777e-05, 1.6681019161944972)\n"
     ]
    }
   ],
   "source": [
    "X = ['john', 'paul', 'mike', 'kevin', 'steve', 'greg', 'jeff', 'bill']\n",
    "Y = ['amy', 'joan', 'lisa', 'sarah', 'diana', 'kate', 'ann', 'donna']\n",
    "A = ['executive', 'management', 'professional', 'corporation', 'salary', 'office', 'business', 'career']\n",
    "B = ['home', 'parents', 'children', 'family', 'cousins', 'marriage', 'wedding', 'relatives']\n",
    "\n",
    "print(p_value_exhust(X, Y, A, B, glove_word))\n",
    "print(p_value_exhust(X, Y, A, B, debias_word))"
   ]
  },
  {
   "cell_type": "code",
   "execution_count": 32,
   "id": "426b5ccf-09f8-4570-96aa-756c3210d0f5",
   "metadata": {},
   "outputs": [
    {
     "name": "stdout",
     "output_type": "stream",
     "text": [
      "num of samples 12870 \n",
      "(0.0006216006216006216, 1.475577799823717)\n",
      "num of samples 12870 \n",
      "(0.5668220668220668, -0.09640361996133391)\n"
     ]
    }
   ],
   "source": [
    "A = ['judge', 'physician', 'doctor', 'laborer', 'conservationist', 'proprietor', 'operator', 'mechanic', 'surveyor']\n",
    "B = ['bankteller', 'cashier', 'librarian', 'accountant' , 'teacher', 'baker', 'nurse', 'secretary', 'clerical']\n",
    "\n",
    "print(p_value_exhust(X, Y, A, B, glove_word))\n",
    "print(p_value_exhust(X, Y, A, B, debias_word))"
   ]
  },
  {
   "cell_type": "code",
   "execution_count": 33,
   "id": "bd358253-605d-418c-b5c3-398efab9ee6a",
   "metadata": {},
   "outputs": [
    {
     "name": "stdout",
     "output_type": "stream",
     "text": [
      "num of samples 12870 \n",
      "(0.08865578865578866, 0.7066670479948265)\n",
      "num of samples 12870 \n",
      "(0.16285936285936287, 0.521484809999423)\n"
     ]
    }
   ],
   "source": [
    "A = ['caress', 'health', 'love', 'heaven', 'pleasure', 'gentle', 'honest', 'lucky', 'rainbow', 'diploma', 'gift', 'honor', 'sunrise', 'bright', 'happy', 'laughter']\n",
    "B = ['bitter', 'crash', 'filth', 'cry', 'grief', 'stink', 'assault', 'disaster', 'angry', 'tragedy', 'divorce', 'fragile', 'poverty', 'ugly', 'sad', 'rotten']\n",
    "\n",
    "print(p_value_exhust(X, Y, A, B, glove_word))\n",
    "print(p_value_exhust(X, Y, A, B, debias_word))"
   ]
  },
  {
   "cell_type": "code",
   "execution_count": 34,
   "id": "d2d0b544-fd87-4da3-b491-5d3c0eaa154d",
   "metadata": {},
   "outputs": [
    {
     "name": "stdout",
     "output_type": "stream",
     "text": [
      "num of samples 12870 \n",
      "(0.0822066822066822, 0.7270437807678093)\n",
      "num of samples 12870 \n",
      "(0.4766899766899767, 0.03399363452923407)\n"
     ]
    }
   ],
   "source": [
    "X = ['he', 'his', 'male', 'son', 'mr', 'gentle', 'boy', 'father']\n",
    "Y = ['she', 'her', 'female', 'daughter', 'mrs', 'lady', 'girl', 'mother']\n",
    "A = ['executive', 'management', 'professional', 'corporation', 'salary', 'office', 'business', 'career']\n",
    "B = ['home', 'parents', 'children', 'family', 'cousins', 'marriage', 'wedding', 'relatives']\n",
    "\n",
    "print(p_value_exhust(X, Y, A, B, glove_word))\n",
    "print(p_value_exhust(X, Y, A, B, debias_word))"
   ]
  },
  {
   "cell_type": "code",
   "execution_count": 35,
   "id": "3a2fa886-5dd1-414c-8389-2620bb630e3b",
   "metadata": {},
   "outputs": [
    {
     "name": "stdout",
     "output_type": "stream",
     "text": [
      "num of samples 12870 \n",
      "(0.0002331002331002331, 1.6109151334676957)\n",
      "num of samples 12870 \n",
      "(0.23108003108003108, 0.39428740139082213)\n"
     ]
    }
   ],
   "source": [
    "A = ['judge', 'physician', 'doctor', 'laborer', 'conservationist', 'proprietor', 'operator', 'mechanic', 'surveyor']\n",
    "B = ['bankteller', 'cashier', 'librarian', 'accountant' , 'teacher', 'baker', 'nurse', 'secretary', 'clerical']\n",
    "\n",
    "print(p_value_exhust(X, Y, A, B, glove_word))\n",
    "print(p_value_exhust(X, Y, A, B, debias_word))"
   ]
  },
  {
   "cell_type": "code",
   "execution_count": 36,
   "id": "7a465169-010d-4e03-ae4f-7997d2b342c8",
   "metadata": {},
   "outputs": [
    {
     "name": "stdout",
     "output_type": "stream",
     "text": [
      "num of samples 12870 \n",
      "(0.17956487956487957, 0.5009753645477947)\n",
      "num of samples 12870 \n",
      "(0.2616938616938617, 0.36509284516643964)\n"
     ]
    }
   ],
   "source": [
    "A = ['caress', 'health', 'love', 'heaven', 'pleasure', 'gentle', 'honest', 'lucky', 'rainbow', 'diploma', 'gift', 'honor', 'sunrise', 'bright', 'happy', 'laughter']\n",
    "B = ['bitter', 'crash', 'filth', 'cry', 'grief', 'stink', 'assault', 'disaster', 'angry', 'tragedy', 'divorce', 'fragile', 'poverty', 'ugly', 'sad', 'rotten']\n",
    "\n",
    "print(p_value_exhust(X, Y, A, B, glove_word))\n",
    "print(p_value_exhust(X, Y, A, B, debias_word))"
   ]
  }
 ],
 "metadata": {
  "kernelspec": {
   "display_name": "Python 3 (ipykernel)",
   "language": "python",
   "name": "python3"
  },
  "language_info": {
   "codemirror_mode": {
    "name": "ipython",
    "version": 3
   },
   "file_extension": ".py",
   "mimetype": "text/x-python",
   "name": "python",
   "nbconvert_exporter": "python",
   "pygments_lexer": "ipython3",
   "version": "3.9.5"
  }
 },
 "nbformat": 4,
 "nbformat_minor": 5
}
