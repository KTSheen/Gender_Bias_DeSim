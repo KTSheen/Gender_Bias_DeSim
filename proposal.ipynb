{
 "cells": [
  {
   "cell_type": "code",
   "execution_count": 1,
   "id": "3913d3a9-25f0-43cb-93d7-e539a2467b75",
   "metadata": {},
   "outputs": [],
   "source": [
    "import numpy as np\n",
    "import pandas as pd\n",
    "import scipy, requests, codecs, os, re, nltk, itertools, csv\n",
    "from sklearn.metrics.pairwise import cosine_similarity\n",
    "import tensorflow as tf\n",
    "from scipy.stats import spearmanr\n",
    "import functools as ft\n",
    "from sklearn.decomposition import PCA\n",
    "from sklearn.preprocessing import normalize\n",
    "import gdown\n",
    "import json"
   ]
  },
  {
   "cell_type": "code",
   "execution_count": 2,
   "id": "2d165019-c379-4e33-894a-6158a594bc42",
   "metadata": {},
   "outputs": [
    {
     "name": "stdout",
     "output_type": "stream",
     "text": [
      "322636\n"
     ]
    }
   ],
   "source": [
    "VEC_LEN = 300\n",
    "glove_file = open(\"data/glove_wiki_vectors.txt\", 'r')\n",
    "glove_word = {}\n",
    "for line in glove_file:\n",
    "    line = line.strip()\n",
    "    _word = line.split(' ')\n",
    "    vector = np.array([float(num) for num in _word[1:]])\n",
    "    if len(vector) != VEC_LEN: \n",
    "        raise Exception(\"Word dimension is wrong\")\n",
    "    glove_word[_word[0]] = vector\n",
    "glove_file.close()\n",
    "print(len(glove_word))"
   ]
  },
  {
   "cell_type": "code",
   "execution_count": 3,
   "id": "a37d62d4-d308-413f-8f2a-83630333cf43",
   "metadata": {},
   "outputs": [
    {
     "name": "stdout",
     "output_type": "stream",
     "text": [
      "322636\n"
     ]
    }
   ],
   "source": [
    "VEC_LEN = 300\n",
    "debias_file = open(\"./Hard_Debias/embeddings/GoogleNews-vectors-negative300-hard-debiased.bin\", 'r')\n",
    "debias_word = {}\n",
    "for line in debias_file:\n",
    "    line = line.strip()\n",
    "    _word = line.split(' ')\n",
    "    vector = np.array([float(num) for num in _word[1:]])\n",
    "    if len(vector) != VEC_LEN: \n",
    "        raise Exception(\"Word dimension is wrong\")\n",
    "    debias_word[_word[0]] = vector\n",
    "debias_file.close()\n",
    "print(len(debias_word))"
   ]
  },
  {
   "cell_type": "code",
   "execution_count": 3,
   "id": "d0419cc5-a8f1-4f23-b596-23473012e00d",
   "metadata": {},
   "outputs": [],
   "source": [
    "def doPCA(pairs, embedding, num_components = 10):\n",
    "    matrix = []\n",
    "    for a, b in pairs:\n",
    "        a = a.lower()\n",
    "        b = b.lower()\n",
    "        try:\n",
    "            center = (embedding[a] + embedding[b])/2\n",
    "            matrix.append(embedding[a] - center)\n",
    "            matrix.append(embedding[b] - center)\n",
    "        except:\n",
    "            print(\"error\", a, b)\n",
    "    matrix = np.array(matrix)\n",
    "    pca = PCA(n_components = num_components)\n",
    "    pca.fit(matrix)\n",
    "    # bar(range(num_components), pca.explained_variance_ratio_)\n",
    "    return pca\n",
    "\n"
   ]
  },
  {
   "cell_type": "code",
   "execution_count": 4,
   "id": "44c17ce9-8cee-4e76-877b-948e6893e286",
   "metadata": {},
   "outputs": [
    {
     "name": "stdout",
     "output_type": "stream",
     "text": [
      "definitional [['woman', 'man'], ['girl', 'boy'], ['she', 'he'], ['mother', 'father'], ['daughter', 'son'], ['gal', 'guy'], ['female', 'male'], ['her', 'his'], ['herself', 'himself'], ['Mary', 'John']]\n",
      "gender specific 218 ['actress', 'actresses', 'aunt', 'aunts', 'bachelor', 'ballerina', 'barbershop', 'baritone', 'beard', 'beards']\n"
     ]
    }
   ],
   "source": [
    "with open('./definitional_pairs.json', \"r\") as f:\n",
    "    defs = json.load(f)\n",
    "print(\"definitional\", defs)\n",
    "\n",
    "with open('./equalize_pairs.json', \"r\") as f:\n",
    "    equalize_pairs = json.load(f)\n",
    "\n",
    "with open('./gender_specific_seed.json', \"r\") as f:\n",
    "    gender_specific_words = json.load(f)\n",
    "print(\"gender specific\", len(gender_specific_words), gender_specific_words[:10])"
   ]
  },
  {
   "cell_type": "markdown",
   "id": "6823892f-78f4-4362-9ff8-fe3373d164ba",
   "metadata": {},
   "source": [
    "## Word Projection Task"
   ]
  },
  {
   "cell_type": "code",
   "execution_count": 98,
   "id": "ce6f148a-eaca-4039-8f03-1025b88748e7",
   "metadata": {},
   "outputs": [],
   "source": [
    "def word_projection(defs, glove_word, k, comp):\n",
    "    pca = doPCA(defs, glove_word)\n",
    "    comp = pca.components_[:k]\n",
    "    gender_word = []\n",
    "    for w in gender_specific_words:\n",
    "        if w in glove_word.keys():\n",
    "            gender_word.append(w)\n",
    "    n = len(gender_word)\n",
    "    total = 0\n",
    "    for w in gender_word:\n",
    "        d = comp.dot(glove_word[w])\n",
    "        total += np.linalg.norm(d)\n",
    "    pro1 = total / n\n",
    "    print(\"Gender projection :\", pro1)\n",
    "    # random group\n",
    "    np.random.seed(184)\n",
    "    control = np.random.choice(list(glove_word.keys()), n)\n",
    "    total = 0\n",
    "    for w in control:\n",
    "        total += np.linalg.norm(comp.dot(glove_word[w]))\n",
    "    pro2 = total / n\n",
    "    print(\"Random group :\", pro2)\n",
    "    print(\"Gap :\", (pro1 - pro2) / pro1)"
   ]
  },
  {
   "cell_type": "code",
   "execution_count": 99,
   "id": "729dc330-59a7-4411-a4b6-81e2184a5932",
   "metadata": {},
   "outputs": [
    {
     "name": "stdout",
     "output_type": "stream",
     "text": [
      "When k=1\n",
      "205\n",
      "Gender projection : 1.1002250230118629\n",
      "Random group : 0.34114585075451126\n",
      "Gap : 0.6899308381292533\n",
      "When k=2\n",
      "205\n",
      "Gender projection : 1.3781663564516313\n",
      "Random group : 0.5892525589502762\n",
      "Gap : 0.5724372778425485\n",
      "When k=3\n",
      "205\n",
      "Gender projection : 1.4616985587626459\n",
      "Random group : 0.6934941328344936\n",
      "Gap : 0.5255559850715398\n"
     ]
    }
   ],
   "source": [
    "print(\"When k=1\")\n",
    "word_projection(defs, glove_word, 1, comp)\n",
    "print(\"When k=2\")\n",
    "word_projection(defs, glove_word, 2, comp)\n",
    "print(\"When k=3\")\n",
    "word_projection(defs, glove_word, 3, comp)"
   ]
  },
  {
   "cell_type": "markdown",
   "id": "86e8f8f1-2bb0-4970-ba05-1665adced504",
   "metadata": {},
   "source": [
    "## Simialrity Correlation Task"
   ]
  },
  {
   "cell_type": "code",
   "execution_count": null,
   "id": "57d64326-e7e7-4e20-9c34-5e0aec6dcf56",
   "metadata": {},
   "outputs": [],
   "source": [
    "pca = doPCA(defs, glove_word)\n",
    "comp = pca.components_[:1]"
   ]
  },
  {
   "cell_type": "code",
   "execution_count": 31,
   "id": "feb1afc8-c9a9-4c83-81ca-ef7c9cee645a",
   "metadata": {},
   "outputs": [],
   "source": [
    "import json \n",
    "\n",
    "def extract_professions():\n",
    "    professions = []\n",
    "    with codecs.open('./data/HSR/professions.json', 'r', 'utf-8') as f:\n",
    "        professions_data = json.load(f)\n",
    "    for item in professions_data:\n",
    "        professions.append(item[0].strip())\n",
    "    return professions\n",
    "\n",
    "\n",
    "professions = extract_professions()"
   ]
  },
  {
   "cell_type": "code",
   "execution_count": 32,
   "id": "74937d84-2e91-4d2c-bef8-caffb40fc58b",
   "metadata": {},
   "outputs": [
    {
     "name": "stdout",
     "output_type": "stream",
     "text": [
      "446\n"
     ]
    }
   ],
   "source": [
    "gender_specific = []\n",
    "with open('./data/HSR/male_word_file.txt') as f:\n",
    "    for l in f:\n",
    "        gender_specific.append(l.strip())\n",
    "with open('./data/HSR/female_word_file.txt') as f:\n",
    "    for l in f:\n",
    "        gender_specific.append(l.strip())\n",
    "\n",
    "exclude_words = gender_specific\n",
    "print(len(exclude_words))"
   ]
  },
  {
   "cell_type": "code",
   "execution_count": 33,
   "id": "4359338b-24f5-4f3a-b48f-ac12120f67a4",
   "metadata": {},
   "outputs": [
    {
     "name": "stderr",
     "output_type": "stream",
     "text": [
      "100%|████████████████████████████████████████████████████████████████████████████| 50000/50000 [00:00<00:00, 470332.62it/s]"
     ]
    },
    {
     "name": "stdout",
     "output_type": "stream",
     "text": [
      "size of vocabulary: 47698\n"
     ]
    },
    {
     "name": "stderr",
     "output_type": "stream",
     "text": [
      "\n"
     ]
    }
   ],
   "source": [
    "import string \n",
    "from tqdm import tqdm\n",
    "\n",
    "def has_punct(w):\n",
    "    \n",
    "    if any([c in string.punctuation for c in w]):\n",
    "        return True\n",
    "    return False\n",
    "\n",
    "def has_digit(w):\n",
    "    \n",
    "    if any([c in '0123456789' for c in w]):\n",
    "        return True\n",
    "    return False\n",
    "\n",
    "def limit_vocab(word_embedding, exclude = None, vec_len = 300):\n",
    "    vocab_limited = []\n",
    "    for w in tqdm(list(word_embedding.keys())[:50000]): \n",
    "        if w.lower() != w:\n",
    "            continue\n",
    "        if len(w) >= 20:\n",
    "            continue\n",
    "        if has_digit(w):\n",
    "            continue\n",
    "        if '_' in w:\n",
    "            p = [has_punct(subw) for subw in w.split('_')]\n",
    "            if not any(p):\n",
    "                vocab_limited.append(w)\n",
    "            continue\n",
    "        if has_punct(w):\n",
    "            continue\n",
    "        vocab_limited.append(w)\n",
    "    \n",
    "    if exclude:\n",
    "        # vocab_limited = list(set(vocab_limited) - set(exclude) - {'melville', 'null', 'nan', 'castellón', 'sgc'})\n",
    "        vocab_limited = list(set(vocab_limited) - set(exclude))\n",
    "    \n",
    "    print(\"size of vocabulary:\", len(vocab_limited))\n",
    "    \n",
    "    return vocab_limited\n",
    "\n",
    "word_limited = limit_vocab(glove_word, exclude_words)"
   ]
  },
  {
   "cell_type": "code",
   "execution_count": 34,
   "id": "8a5bdff7-f506-4f42-a301-ad6d3771e3bd",
   "metadata": {},
   "outputs": [],
   "source": [
    "import scipy.stats\n",
    "\n",
    "def pearson(a,b):\n",
    "   \n",
    "    return scipy.stats.pearsonr(a,b)\n",
    "\n",
    "def compute_corr(tuples, i1, i2):\n",
    "    \n",
    "    a = []\n",
    "    b = []\n",
    "    for t in tuples:\n",
    "        a.append(t[i1])\n",
    "        b.append(t[i2])\n",
    "    assert(len(a)==len(b))    \n",
    "    return pearson(a,b)"
   ]
  },
  {
   "cell_type": "code",
   "execution_count": 35,
   "id": "b8e952ff-18e3-4c35-949a-15bca159ff4f",
   "metadata": {},
   "outputs": [],
   "source": [
    "def word_vec(word_embedding, word_list):\n",
    "    word_limited_vec = []\n",
    "    for w in word_list:\n",
    "        word_limited_vec.append(word_embedding[w])\n",
    "    word_limited_vec = np.array(word_limited_vec)\n",
    "    return word_limited_vec\n",
    "\n",
    "word_limited_vec = word_vec(glove_word, word_limited)"
   ]
  },
  {
   "cell_type": "code",
   "execution_count": 36,
   "id": "0b6f3bb9-25f8-4e54-959e-2e840f46bab2",
   "metadata": {},
   "outputs": [],
   "source": [
    "def get_tuples_prof(word_embedding, words, word_list, word_limited_vec, gender_bias_dict, b=0.2):\n",
    "\n",
    "    tuples = []\n",
    "    \n",
    "    for w in words:\n",
    "        if w not in gender_bias_dict:\n",
    "            continue\n",
    "            \n",
    "        # top = topK(w, space, k=105)[:100]\n",
    "        vec = word_embedding[w]\n",
    "        sim = word_limited_vec.dot(vec)\n",
    "        sort_sim = (sim.argsort())[::-1]\n",
    "        best = sort_sim[:(105+1)]\n",
    "        \n",
    "        # if w in words:\n",
    "        #     print(w)\n",
    "        # idx = word_list.index(w)\n",
    "        top = []\n",
    "        for i in best:\n",
    "            if word_list[i] != w:\n",
    "                top.append(word_list[i])\n",
    "            # else:\n",
    "                # print(\"___________________\")\n",
    "                # print(w)\n",
    "                # raise Exception(\"Same Word Error\")\n",
    "            \n",
    "        m = 0\n",
    "        f = 0  \n",
    "        for t in top[:100]:          \n",
    "            if gender_bias_dict[t] > b:\n",
    "                m+=1\n",
    "            if gender_bias_dict[t] < -b:\n",
    "                f+=1\n",
    "                \n",
    "        tuples.append((w, gender_bias_dict[w], 0, m, f))\n",
    "        \n",
    "        \n",
    "    return tuples"
   ]
  },
  {
   "cell_type": "code",
   "execution_count": 37,
   "id": "f3e0c152-916a-494e-80bc-a44d60ff9537",
   "metadata": {},
   "outputs": [],
   "source": [
    "def compute_bias_by_projection(word_embedding, word_list, direction):\n",
    "    d = {}\n",
    "    # for w,m,f in zip(vocab[space_to_tag], males, females):\n",
    "    #     d[w] = m-f\n",
    "    for w in word_list:\n",
    "        try:\n",
    "            d[w] = direction.dot(word_embedding[w])[0]\n",
    "        except Exception:\n",
    "            print(w)\n",
    "            continue\n",
    "    return d\n",
    "\n",
    "word_project = compute_bias_by_projection(glove_word, word_limited, comp)"
   ]
  },
  {
   "cell_type": "code",
   "execution_count": 38,
   "id": "b6213341-e3e0-4224-bd46-a0df303485cd",
   "metadata": {},
   "outputs": [
    {
     "data": {
      "text/plain": [
       "(0.7820550863231456, 1.8216573265744813e-53)"
      ]
     },
     "execution_count": 38,
     "metadata": {},
     "output_type": "execute_result"
    }
   ],
   "source": [
    "prof_glove = get_tuples_prof(glove_word, professions, word_limited, word_limited_vec, word_project)\n",
    "compute_corr(prof_glove, 1, 3)"
   ]
  },
  {
   "cell_type": "code",
   "execution_count": 39,
   "id": "97b6850f-1917-4a51-81b7-22af85bcf6b8",
   "metadata": {},
   "outputs": [
    {
     "data": {
      "image/png": "[encoded data removed]",
      "text/plain": [
       "<Figure size 432x288 with 1 Axes>"
      ]
     },
     "metadata": {
      "needs_background": "light"
     },
     "output_type": "display_data"
    }
   ],
   "source": [
    "import matplotlib.pyplot as plt\n",
    "plt.scatter([t[1] for t in prof_glove], [t[3]/100 for t in prof_glove])\n",
    "plt.xlabel(\"Word Projection\")\n",
    "plt.ylabel(\"Percentage\")\n",
    "plt.show()"
   ]
  },
  {
   "cell_type": "code",
   "execution_count": 77,
   "id": "e49f452f-a6d5-43aa-bc50-ae88d0d07a3f",
   "metadata": {},
   "outputs": [],
   "source": [
    "# normalize\n",
    "def normalize(word_embedding):\n",
    "    for word in word_embedding.keys():\n",
    "        vec = word_embedding[word]\n",
    "        norm = np.linalg.norm(vec)\n",
    "        word_embedding[word] = vec / norm\n",
    "\n",
    "def check_normalize(word_embedding):\n",
    "    count = 0\n",
    "    for word in word_embedding.keys():\n",
    "        vec = word_embedding[word]\n",
    "        if np.linalg.norm(vec) > 1.0001 or np.linalg.norm(vec) < 0.9999:\n",
    "            print(word)\n",
    "            print(count)\n",
    "            raise Exception(\"Normalize error\")\n",
    "            \n",
    "def dim299(word_embedding):\n",
    "    for w in word_embedding:\n",
    "        try:\n",
    "            word_embedding[w] = word_embedding[w][:-1]\n",
    "            assert(len(word_embedding[w]) == 299)\n",
    "        except Exception:\n",
    "            print(w)\n",
    "\n",
    "glove_word299 = glove_word.copy()\n",
    "dim299(glove_word299)\n",
    "normalize(glove_word299)\n",
    "debias_word299 = debias_word.copy()\n",
    "dim299(debias_word299)\n",
    "normalize(debias_word299)"
   ]
  },
  {
   "cell_type": "code",
   "execution_count": 42,
   "id": "fb735093-d5b6-4cc3-86f4-d5a1cb8cb542",
   "metadata": {},
   "outputs": [],
   "source": [
    "def word_vec299(word_embedding, word_list):\n",
    "    word_limited_vec = []\n",
    "    for w in word_list:\n",
    "        word_limited_vec.append(word_embedding[w])\n",
    "    word_limited_vec = np.array(word_limited_vec)\n",
    "    return word_limited_vec\n",
    "\n",
    "word_limited_vec299 = word_vec(glove_word299, word_limited)"
   ]
  },
  {
   "cell_type": "code",
   "execution_count": 43,
   "id": "e503d203-8f52-4474-985d-6251a13b5653",
   "metadata": {},
   "outputs": [],
   "source": [
    "def compute_bias_by_projection_org(word_embedding, word_list):\n",
    "    direction = word_embedding['he'] - word_embedding['she']\n",
    "    # males = wv[space_to_tag].dot(wv[full_space][w2i[full_space]['he'],:])\n",
    "    # females = wv[space_to_tag].dot(wv[full_space][w2i[full_space]['she'],:])\n",
    "    d = {}\n",
    "    # for w,m,f in zip(vocab[space_to_tag], males, females):\n",
    "    #     d[w] = m-f\n",
    "    for w in word_list:\n",
    "        try:\n",
    "            d[w] = word_embedding[w].dot(direction)\n",
    "        except Exception:\n",
    "            print(w)\n",
    "            continue\n",
    "    return d\n",
    "\n",
    "word_project_org = compute_bias_by_projection_org(glove_word299, word_limited)"
   ]
  },
  {
   "cell_type": "code",
   "execution_count": 44,
   "id": "b066a4bc-9999-4a15-a7d7-6ec2a0a4417b",
   "metadata": {},
   "outputs": [],
   "source": [
    "def get_tuples_prof_org(word_embedding, words, word_list, word_limited_vec, gender_bias_dict):\n",
    "\n",
    "    tuples = []\n",
    "    \n",
    "    for w in words:\n",
    "        if w not in gender_bias_dict:\n",
    "            continue\n",
    "            \n",
    "        # top = topK(w, space, k=105)[:100]\n",
    "        vec = word_embedding[w]\n",
    "        sim = word_limited_vec.dot(vec)\n",
    "        sort_sim = (sim.argsort())[::-1]\n",
    "        best = sort_sim[:(105+1)]\n",
    "        \n",
    "        # if w in words:\n",
    "        #     print(w)\n",
    "        # idx = word_list.index(w)\n",
    "        top = []\n",
    "        for i in best:\n",
    "            if word_list[i] != w:\n",
    "                top.append(word_list[i])\n",
    "            # else:\n",
    "                # print(\"___________________\")\n",
    "                # print(w)\n",
    "                # raise Exception(\"Same Word Error\")\n",
    "            \n",
    "        m = 0\n",
    "        f = 0  \n",
    "        for t in top[:100]:          \n",
    "            if gender_bias_dict[t] > 0:\n",
    "                m+=1\n",
    "            else:\n",
    "                f+=1\n",
    "                \n",
    "        tuples.append((w, gender_bias_dict[w], 0, m, f))\n",
    "        \n",
    "        \n",
    "    return tuples\n",
    "\n",
    "prof_glove_org = get_tuples_prof_org(glove_word299, professions, word_limited, word_limited_vec299, word_project_org)"
   ]
  },
  {
   "cell_type": "code",
   "execution_count": 45,
   "id": "89ceff60-3735-47f3-9225-558097f93236",
   "metadata": {},
   "outputs": [
    {
     "data": {
      "text/plain": [
       "(0.8190502234926496, 1.665581362495172e-62)"
      ]
     },
     "execution_count": 45,
     "metadata": {},
     "output_type": "execute_result"
    }
   ],
   "source": [
    "compute_corr(prof_glove_org, 1, 3)"
   ]
  },
  {
   "cell_type": "code",
   "execution_count": 46,
   "id": "1ceaf75a-eb20-4d11-8419-b76a702899e5",
   "metadata": {},
   "outputs": [
    {
     "data": {
      "image/png": "[encoded data removed]",
      "text/plain": [
       "<Figure size 432x288 with 1 Axes>"
      ]
     },
     "metadata": {
      "needs_background": "light"
     },
     "output_type": "display_data"
    }
   ],
   "source": [
    "import matplotlib.pyplot as plt\n",
    "plt.scatter([t[1] for t in prof_glove_org], [t[3]/100 for t in prof_glove_org])\n",
    "plt.xlabel(\"Word Projection\")\n",
    "plt.ylabel(\"Percentage\")\n",
    "plt.show()"
   ]
  },
  {
   "cell_type": "markdown",
   "id": "8c38a21b-7634-4b5f-b370-52a38e4e1da6",
   "metadata": {
    "tags": []
   },
   "source": [
    "## Association classification task"
   ]
  },
  {
   "cell_type": "markdown",
   "id": "75e86417-37ea-4962-9c35-cecee6fad3e3",
   "metadata": {},
   "source": [
    "### RNSB"
   ]
  },
  {
   "cell_type": "code",
   "execution_count": 4,
   "id": "7c74d64a-688e-4430-97ed-876a094cb613",
   "metadata": {},
   "outputs": [
    {
     "name": "stdout",
     "output_type": "stream",
     "text": [
      "446\n"
     ]
    }
   ],
   "source": [
    "male = []\n",
    "female = []\n",
    "with open('./data/HSR/male_word_file.txt') as f:\n",
    "    for l in f:\n",
    "        male.append(l.strip())\n",
    "with open('./data/HSR/female_word_file.txt') as f:\n",
    "    for l in f:\n",
    "        female.append(l.strip())\n",
    "\n",
    "exclude_words = male + female\n",
    "print(len(exclude_words))"
   ]
  },
  {
   "cell_type": "code",
   "execution_count": 5,
   "id": "94cd093d-ada2-4d7d-a410-abf779dde550",
   "metadata": {},
   "outputs": [],
   "source": [
    "attribute_sets=[[\"footballer\", 'engineer', 'physician', 'doctor', 'laborer', 'proprietor', 'operator', 'mechanic', 'surveyor', 'physicist', 'machinist', 'architect', 'photographer', 'optometrist', 'millwright', 'sales', 'manager'],\n",
    "                [\"hairdresser\",\"receptionist\", 'salesperson', 'setter', 'welder', \"cleaner\" ,'teacher', 'dancer', 'nutritionist', 'dietitian', 'author', 'nurse', 'attendant', 'waitstaff', 'librarian', 'housekeeper', 'model']]"
   ]
  },
  {
   "cell_type": "code",
   "execution_count": 6,
   "id": "b8424cba-d2cc-43f9-b612-ad674ed5f4dc",
   "metadata": {},
   "outputs": [],
   "source": [
    "length = min(len(attribute_sets[0]), len(attribute_sets[1]))\n",
    "attribute_sets = attribute_sets[0][:length] + attribute_sets[1][:length]\n",
    "target_sets = [male, female]"
   ]
  },
  {
   "cell_type": "code",
   "execution_count": 7,
   "id": "fc8c3f75-ca24-4f57-be6a-87cdc2d59154",
   "metadata": {},
   "outputs": [],
   "source": [
    "from sklearn.model_selection import train_test_split\n",
    "from sklearn.linear_model import LogisticRegression\n",
    "from scipy.stats import entropy\n",
    "\n",
    "def rnsb(word_embeddings):\n",
    "\n",
    "    attribute_embeddings = [word_embeddings[w] for w in attribute_sets]\n",
    "\n",
    "    target_embeddings = [[], []]\n",
    "    for w in male:\n",
    "        if w in word_embeddings.keys():\n",
    "            target_embeddings[0].append(word_embeddings[w])\n",
    "    for w in female:\n",
    "        if w in word_embeddings.keys():\n",
    "            target_embeddings[1].append(word_embeddings[w])\n",
    "\n",
    "    calculated_divergences = []\n",
    "    calculated_negative_sentiment_probabilities = []\n",
    "    scores = []\n",
    "\n",
    "    # train the logit with the train data.\n",
    "    X_train = np.array(target_embeddings[0] + target_embeddings[1])\n",
    "    Y_train = np.array([1]*len(target_embeddings[0]) + [-1]*len(target_embeddings[1]))\n",
    "    split = train_test_split(\n",
    "            X_train,\n",
    "            Y_train,\n",
    "            shuffle=True,\n",
    "            test_size=0.1,\n",
    "            random_state=0,\n",
    "            stratify=Y_train,\n",
    "            )\n",
    "    X_embeddings_train, X_embeddings_test, y_train, y_test = split\n",
    "    estimator = LogisticRegression(random_state=0)\n",
    "    estimator.fit(X_embeddings_train, y_train)\n",
    "    y_pred = estimator.predict(X_embeddings_test)\n",
    "    score = estimator.score(X_embeddings_test, y_test)\n",
    "    # print(y_test)\n",
    "    # print(y_pred, score)\n",
    "    probabilities = estimator.predict_proba(attribute_embeddings)\n",
    "    negative_probabilities = probabilities[:, 1].flatten()\n",
    "    # for n, w in zip(negative_probabilities, target_sets):\n",
    "    #     print(n,w)\n",
    "\n",
    "    normalized_negative_probabilities = np.array(negative_probabilities / np.sum(negative_probabilities))\n",
    "    # print(normalized_negative_probabilities)\n",
    "    uniform_dist = (np.ones(normalized_negative_probabilities.shape[0])* 1/ normalized_negative_probabilities.shape[0])\n",
    "    kl_divergence = entropy(normalized_negative_probabilities, uniform_dist)\n",
    "    print(kl_divergence)"
   ]
  },
  {
   "cell_type": "code",
   "execution_count": 8,
   "id": "83931aa6-006b-4615-95de-01dde5ce0fc0",
   "metadata": {},
   "outputs": [
    {
     "name": "stdout",
     "output_type": "stream",
     "text": [
      "Original GloVe:\n",
      "0.22399039104982316\n",
      "Hard Debias:\n",
      "0.012048994282516507\n"
     ]
    }
   ],
   "source": [
    "print(\"Original GloVe:\")\n",
    "rnsb(glove_word)\n",
    "print(\"Hard Debias:\")\n",
    "rnsb(debias_word)"
   ]
  },
  {
   "cell_type": "markdown",
   "id": "dc914b75-0ba9-43d0-9dc6-cf8ac1c5c57c",
   "metadata": {},
   "source": [
    "### SVM"
   ]
  },
  {
   "cell_type": "code",
   "execution_count": 34,
   "id": "c7c3e991-8753-4f52-9f25-9808e6ab02d6",
   "metadata": {},
   "outputs": [],
   "source": [
    "import heapq\n",
    "def compute_sim(word_embedding, direction):\n",
    "    \n",
    "    index = 0\n",
    "    word_list = []\n",
    "    count = 0\n",
    "    for w in list(word_embedding.keys())[:50000]:\n",
    "        d = word_embedding[w].dot(direction) / (np.linalg.norm(word_embedding[w]) * np.linalg.norm(direction))          \n",
    "        if count >= 100:\n",
    "            least = word_list[0]\n",
    "            if d > least[0]:\n",
    "                heapq.heappop(word_list)\n",
    "                heapq.heappush(word_list, (d, w))\n",
    "        else:\n",
    "            heapq.heappush(word_list, (d, w))\n",
    "            count += 1\n",
    "        index += 1\n",
    "       \n",
    "    print(count)\n",
    "    return word_list"
   ]
  },
  {
   "cell_type": "code",
   "execution_count": 35,
   "id": "189ae4b9-c919-4524-9d6d-ea256ae2d323",
   "metadata": {},
   "outputs": [
    {
     "name": "stdout",
     "output_type": "stream",
     "text": [
      "100\n"
     ]
    }
   ],
   "source": [
    "word_list = compute_sim(glove_word, glove_word[\"he\"] - glove_word[\"she\"])"
   ]
  },
  {
   "cell_type": "code",
   "execution_count": 74,
   "id": "261dfee9-28d3-452b-b310-40a76cfc0b70",
   "metadata": {},
   "outputs": [],
   "source": [
    "from sklearn import svm\n",
    "from random import shuffle\n",
    "import random\n",
    "random.seed(100)\n",
    "import operator\n",
    "\n",
    "\n",
    "\n",
    "def train_and_predict(word_embedding):\n",
    "    \n",
    "    X_train = [word_embedding[w] for w in males[:size_train]+females[:size_train]]\n",
    "    Y_train = [1]*size_train + [0]*size_train\n",
    "    X_test = [word_embedding[w] for w in males[size_train:]+females[size_train:]]\n",
    "    Y_test = [1]*size_test + [0]*size_test\n",
    "\n",
    "    clf = svm.SVC()\n",
    "    clf.fit(X_train, Y_train)\n",
    "\n",
    "    preds = clf.predict(X_test)\n",
    "\n",
    "    accuracy = [1 if y==z else 0 for y,z in zip(preds, Y_test)]\n",
    "    return float(sum(accuracy))/len(accuracy)\n",
    "\n",
    "    \n",
    "# extract most biased words\n",
    "\n",
    "size_train = 50\n",
    "size_test = 200\n",
    "size = size_train + size_test\n",
    "sorted_g = sorted(word_project.items(), key=operator.itemgetter(1))\n",
    "females = [item[0] for item in sorted_g[:size]]\n",
    "males = [item[0] for item in sorted_g[-size:]]\n",
    "for f in females:\n",
    "    assert(word_project[f] < 0)\n",
    "for m in males:\n",
    "    assert(word_project[m] > 0)\n",
    "shuffle(females)\n",
    "shuffle(males)"
   ]
  },
  {
   "cell_type": "code",
   "execution_count": 78,
   "id": "6d42d713-2f36-4980-a53c-b8b588868839",
   "metadata": {},
   "outputs": [
    {
     "data": {
      "text/plain": [
       "1.0"
      ]
     },
     "execution_count": 78,
     "metadata": {},
     "output_type": "execute_result"
    }
   ],
   "source": [
    "train_and_predict(glove_word299)"
   ]
  },
  {
   "cell_type": "code",
   "execution_count": 79,
   "id": "24f77804-abcb-43a5-94db-bc783ae94ca2",
   "metadata": {},
   "outputs": [
    {
     "data": {
      "text/plain": [
       "0.8025"
      ]
     },
     "execution_count": 79,
     "metadata": {},
     "output_type": "execute_result"
    }
   ],
   "source": [
    "train_and_predict(debias_word299)"
   ]
  },
  {
   "cell_type": "markdown",
   "id": "f7c5c740-2ff4-49c2-aa33-33cdd911e211",
   "metadata": {},
   "source": [
    "## WEAT task"
   ]
  },
  {
   "cell_type": "code",
   "execution_count": 83,
   "id": "3b3f75cf-8018-4357-b125-efd595b8b3d2",
   "metadata": {},
   "outputs": [],
   "source": [
    "def similarity(w1, w2):\n",
    "    \n",
    "    return w1.dot(w2)\n",
    "\n",
    "def s_word(w, A, B, word_embedding, all_s_words):\n",
    "    \n",
    "    if w in all_s_words:\n",
    "        return all_s_words[w]\n",
    "    \n",
    "    mean_a = []\n",
    "    mean_b = []\n",
    "    \n",
    "    for a in A:\n",
    "        mean_a.append(similarity(word_embedding[w], word_embedding[a]))\n",
    "    for b in B:\n",
    "        mean_b.append(similarity(word_embedding[w], word_embedding[b]))\n",
    "        \n",
    "    mean_a = sum(mean_a)/float(len(mean_a))\n",
    "    mean_b = sum(mean_b)/float(len(mean_b))\n",
    "    \n",
    "    all_s_words[w] = mean_a - mean_b\n",
    "\n",
    "    return all_s_words[w]\n",
    "\n",
    "\n",
    "def s_group(X, Y, A, B, word_embedding, all_s_words):\n",
    "    \n",
    "    total = 0\n",
    "    for x in X:\n",
    "        total += s_word(x, A, B, word_embedding, all_s_words)\n",
    "    for y in Y:\n",
    "        total -= s_word(y, A, B, word_embedding, all_s_words)\n",
    "        \n",
    "    return total\n",
    "\n",
    "def effect_size(X, Y, A, B, word_embedding, all_s_words):\n",
    "    total_x = []\n",
    "    total_y = []\n",
    "    \n",
    "    for x in X:\n",
    "        total_x.append(s_word(x, A, B, word_embedding, all_s_words))\n",
    "    for y in Y:\n",
    "        total_y.append(s_word(y, A, B, word_embedding, all_s_words))\n",
    "        \n",
    "    \n",
    "    mean = sum(total_x)/float(len(total_x)) - sum(total_y)/float(len(total_y))\n",
    "    std_dev = np.std(total_x + total_y)\n",
    "    \n",
    "    if std_dev == 0:\n",
    "        print(\"Error! \")\n",
    "    \n",
    "    return mean / std_dev\n",
    "\n",
    "\n",
    "def p_value_exhust(X, Y, A, B, word_embedding):\n",
    "    \n",
    "#     if len(X) > 10:\n",
    "#         print('might take too long, use sampled version: p_value')\n",
    "#         return\n",
    "    \n",
    "\n",
    "    _X = []\n",
    "    _Y = []\n",
    "    _A = []\n",
    "    _B = []\n",
    "    for x in X:\n",
    "        if x in word_embedding.keys():\n",
    "            _X.append(x)\n",
    "            \n",
    "    for y in Y:\n",
    "        if y in word_embedding.keys():\n",
    "            _Y.append(y)\n",
    "            \n",
    "    for a in A:\n",
    "        if a in word_embedding.keys():\n",
    "            _A.append(a)\n",
    "            \n",
    "    for b in B:\n",
    "        if b in word_embedding.keys():\n",
    "            _B.append(b)\n",
    "            \n",
    "    length = min(10, len(_X), len(_Y))\n",
    "    X = _X[:length]\n",
    "    Y = _Y[:length]\n",
    "    \n",
    "    A = _A\n",
    "    B = _B\n",
    "    \n",
    "    all_s_words = {}\n",
    "    s_orig = s_group(X, Y, A, B, word_embedding, all_s_words) \n",
    "    \n",
    "    union = set(X+Y)\n",
    "    subset_size = int(len(union)/2)\n",
    "    \n",
    "    larger = 0\n",
    "    total = 0\n",
    "\n",
    "    for subset in set(itertools.combinations(union, subset_size)):\n",
    "        total += 1\n",
    "        Xi = list(set(subset))\n",
    "        Yi = list(union - set(subset))\n",
    "        if s_group(Xi, Yi, A, B, word_embedding, all_s_words) > s_orig:\n",
    "            larger += 1\n",
    "    print('num of samples {} '.format(total))\n",
    "    \n",
    "    d = effect_size(X, Y, A, B, word_embedding, all_s_words)\n",
    "\n",
    "    \n",
    "    return larger/float(total), d"
   ]
  },
  {
   "cell_type": "code",
   "execution_count": 89,
   "id": "945fec69-123d-49f7-aae7-9e0e301f7706",
   "metadata": {},
   "outputs": [
    {
     "name": "stdout",
     "output_type": "stream",
     "text": [
      "num of samples 12870 \n",
      "(0.0, 1.9084065924005231)\n",
      "num of samples 12870 \n",
      "(0.0001554001554001554, 1.687530397554141)\n"
     ]
    }
   ],
   "source": [
    "X = ['john', 'paul', 'mike', 'kevin', 'steve', 'greg', 'jeff', 'bill']\n",
    "Y = ['amy', 'joan', 'lisa', 'sarah', 'diana', 'kate', 'ann', 'donna']\n",
    "A = ['executive', 'management', 'professional', 'corporation', 'salary', 'office', 'business', 'career']\n",
    "B = ['home', 'parents', 'children', 'family', 'cousins', 'marriage', 'wedding', 'relatives']\n",
    "\n",
    "print(p_value_exhust(X, Y, A, B, glove_word))\n",
    "print(p_value_exhust(X, Y, A, B, debias_word))"
   ]
  },
  {
   "cell_type": "code",
   "execution_count": 90,
   "id": "ea370f11-3ad9-41e1-b157-7a97c3d39f19",
   "metadata": {},
   "outputs": [
    {
     "name": "stdout",
     "output_type": "stream",
     "text": [
      "num of samples 12870 \n",
      "(0.0006216006216006216, 1.475577799823717)\n",
      "num of samples 12870 \n",
      "(0.7236208236208236, -0.3175661603956806)\n"
     ]
    }
   ],
   "source": [
    "A = ['judge', 'physician', 'doctor', 'laborer', 'conservationist', 'proprietor', 'operator', 'mechanic', 'surveyor']\n",
    "B = ['bankteller', 'cashier', 'librarian', 'accountant' , 'teacher', 'baker', 'nurse', 'secretary', 'clerical']\n",
    "\n",
    "print(p_value_exhust(X, Y, A, B, glove_word))\n",
    "print(p_value_exhust(X, Y, A, B, debias_word))"
   ]
  },
  {
   "cell_type": "code",
   "execution_count": 85,
   "id": "2491cf95-551d-4eb0-a96f-919c66df393f",
   "metadata": {},
   "outputs": [
    {
     "name": "stdout",
     "output_type": "stream",
     "text": [
      "num of samples 12870 \n",
      "(0.08865578865578866, 0.7066670479948265)\n",
      "num of samples 12870 \n",
      "(0.298989898989899, 0.28072604826530456)\n"
     ]
    }
   ],
   "source": [
    "A = ['caress', 'health', 'love', 'heaven', 'pleasure', 'gentle', 'honest', 'lucky', 'rainbow', 'diploma', 'gift', 'honor', 'sunrise', 'bright', 'happy', 'laughter']\n",
    "B = ['bitter', 'crash', 'filth', 'cry', 'grief', 'stink', 'assault', 'disaster', 'angry', 'tragedy', 'divorce', 'fragile', 'poverty', 'ugly', 'sad', 'rotten']\n",
    "\n",
    "print(p_value_exhust(X, Y, A, B, glove_word))\n",
    "print(p_value_exhust(X, Y, A, B, debias_word))"
   ]
  },
  {
   "cell_type": "code",
   "execution_count": 87,
   "id": "1b7f8256-150f-470c-adb3-84e543e4dbfa",
   "metadata": {},
   "outputs": [
    {
     "name": "stdout",
     "output_type": "stream",
     "text": [
      "num of samples 12870 \n",
      "(0.0822066822066822, 0.7270437807678093)\n",
      "num of samples 12870 \n",
      "(0.4515928515928516, 0.061243357016024236)\n"
     ]
    }
   ],
   "source": [
    "X = ['he', 'his', 'male', 'son', 'mr', 'gentle', 'boy', 'father']\n",
    "Y = ['she', 'her', 'female', 'daughter', 'mrs', 'lady', 'girl', 'mother']\n",
    "A = ['executive', 'management', 'professional', 'corporation', 'salary', 'office', 'business', 'career']\n",
    "B = ['home', 'parents', 'children', 'family', 'cousins', 'marriage', 'wedding', 'relatives']\n",
    "\n",
    "print(p_value_exhust(X, Y, A, B, glove_word))\n",
    "print(p_value_exhust(X, Y, A, B, debias_word))"
   ]
  },
  {
   "cell_type": "code",
   "execution_count": null,
   "id": "d7bbe686-aa04-4dc6-b86b-81e38d801982",
   "metadata": {},
   "outputs": [
    {
     "name": "stdout",
     "output_type": "stream",
     "text": [
      "num of samples 12870 \n",
      "(0.0001554001554001554, 1.6109151334676957)\n",
      "num of samples 12870 \n",
      "(0.20458430458430457, 0.43628530086089257)\n"
     ]
    }
   ],
   "source": [
    "A = ['judge', 'physician', 'doctor', 'laborer', 'conservationist', 'proprietor', 'operator', 'mechanic', 'surveyor']\n",
    "B = ['bankteller', 'cashier', 'librarian', 'accountant' , 'teacher', 'baker', 'nurse', 'secretary', 'clerical']\n",
    "\n",
    "print(p_value_exhust(X, Y, A, B, glove_word))\n",
    "print(p_value_exhust(X, Y, A, B, debias_word))"
   ]
  },
  {
   "cell_type": "code",
   "execution_count": 88,
   "id": "1d2c9feb-97bd-4160-963b-6653718ce53b",
   "metadata": {},
   "outputs": [
    {
     "name": "stdout",
     "output_type": "stream",
     "text": [
      "num of samples 12870 \n",
      "(0.17956487956487957, 0.5009753645477947)\n",
      "num of samples 12870 \n",
      "(0.25555555555555554, 0.37029600908126753)\n"
     ]
    }
   ],
   "source": [
    "A = ['caress', 'health', 'love', 'heaven', 'pleasure', 'gentle', 'honest', 'lucky', 'rainbow', 'diploma', 'gift', 'honor', 'sunrise', 'bright', 'happy', 'laughter']\n",
    "B = ['bitter', 'crash', 'filth', 'cry', 'grief', 'stink', 'assault', 'disaster', 'angry', 'tragedy', 'divorce', 'fragile', 'poverty', 'ugly', 'sad', 'rotten']\n",
    "\n",
    "print(p_value_exhust(X, Y, A, B, glove_word))\n",
    "print(p_value_exhust(X, Y, A, B, debias_word))"
   ]
  },
  {
   "cell_type": "code",
   "execution_count": null,
   "id": "cdd6f07a-69f4-4cf5-89f7-d46c00675ec7",
   "metadata": {},
   "outputs": [],
   "source": []
  }
 ],
 "metadata": {
  "kernelspec": {
   "display_name": "Python 3 (ipykernel)",
   "language": "python",
   "name": "python3"
  },
  "language_info": {
   "codemirror_mode": {
    "name": "ipython",
    "version": 3
   },
   "file_extension": ".py",
   "mimetype": "text/x-python",
   "name": "python",
   "nbconvert_exporter": "python",
   "pygments_lexer": "ipython3",
   "version": "3.9.5"
  }
 },
 "nbformat": 4,
 "nbformat_minor": 5
}
